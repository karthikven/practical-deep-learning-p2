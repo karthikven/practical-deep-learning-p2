{
  "cells": [
    {
      "cell_type": "code",
      "execution_count": 1,
      "metadata": {
        "id": "6PKrhpv2lsR-"
      },
      "outputs": [],
      "source": [
        "# we are allowed to use: python standard library and matplotlib nothing more\n",
        "from pathlib import Path\n",
        "import pickle, gzip, math, os, time, shutil, matplotlib as mpl, matplotlib.pyplot as plt"
      ]
    },
    {
      "cell_type": "markdown",
      "metadata": {
        "id": "QalDCf96x_p-"
      },
      "source": [
        "### urllib.request practice problems"
      ]
    },
    {
      "cell_type": "code",
      "execution_count": 2,
      "metadata": {
        "id": "LhiqTzv2uU5A"
      },
      "outputs": [],
      "source": [
        "from urllib.request import Request, urlopen, urlretrieve\n",
        "from pathlib import Path"
      ]
    },
    {
      "cell_type": "code",
      "execution_count": 3,
      "metadata": {
        "id": "fno_PLgYyiXh"
      },
      "outputs": [],
      "source": [
        "# Fetch the raw HTML of https://httpbin.org/html and save it to a local file named page.html.\n",
        "# Make the file byte-for-byte identical to what the server sent (hint: watch encoding).\n",
        "req = Request('https://httpbin.org/html')\n",
        "with urlopen(req) as resp:\n",
        "  data = resp.read()\n",
        "  with open('page.html', 'wb') as f:\n",
        "    f.write(data)"
      ]
    },
    {
      "cell_type": "code",
      "execution_count": 4,
      "metadata": {
        "colab": {
          "base_uri": "https://localhost:8080/"
        },
        "id": "74ugXucazmx_",
        "outputId": "592427c1-2351-4cd5-d54e-f0cacad03acc"
      },
      "outputs": [
        {
          "name": "stdout",
          "output_type": "stream",
          "text": [
            "<!DOCTYPE html>\n",
            "<html>\n",
            "  <head>\n",
            "  </head>\n",
            "  <body>\n",
            "      <h1>Herman Melville - Moby-Dick</h1>\n",
            "\n",
            "      <div>\n",
            "        <p>\n",
            "          Availing himself of the mild, summer-cool weather that now reigned in these latitudes, and in preparation for the peculiarly active pursuits shortly to be anticipated, Perth, the begrimed, blistered old blacksmith, had not removed his portable forge to the hold again, after concluding his contributory work for Ahab's leg, but still retained it on deck, fast lashed to ringbolts by the foremast; being now almost incessantly invoked by the headsmen, and harpooneers, and bowsmen to do some little job for them; altering, or repairing, or new shaping their various weapons and boat furniture. Often he would be surrounded by an eager circle, all waiting to be served; holding boat-spades, pike-heads, harpoons, and lances, and jealously watching his every sooty movement, as he toiled. Nevertheless, this old man's was a patient hammer wielded by a patient arm. No murmur, no impatience, no petulance did come from him. Silent, slow, and solemn; bowing over still further his chronically broken back, he toiled away, as if toil were life itself, and the heavy beating of his hammer the heavy beating of his heart. And so it was.—Most miserable! A peculiar walk in this old man, a certain slight but painful appearing yawing in his gait, had at an early period of the voyage excited the curiosity of the mariners. And to the importunity of their persisted questionings he had finally given in; and so it came to pass that every one now knew the shameful story of his wretched fate. Belated, and not innocently, one bitter winter's midnight, on the road running between two country towns, the blacksmith half-stupidly felt the deadly numbness stealing over him, and sought refuge in a leaning, dilapidated barn. The issue was, the loss of the extremities of both feet. Out of this revelation, part by part, at last came out the four acts of the gladness, and the one long, and as yet uncatastrophied fifth act of the grief of his life's drama. He was an old man, who, at the age of nearly sixty, had postponedly encountered that thing in sorrow's technicals called ruin. He had been an artisan of famed excellence, and with plenty to do; owned a house and garden; embraced a youthful, daughter-like, loving wife, and three blithe, ruddy children; every Sunday went to a cheerful-looking church, planted in a grove. But one night, under cover of darkness, and further concealed in a most cunning disguisement, a desperate burglar slid into his happy home, and robbed them all of everything. And darker yet to tell, the blacksmith himself did ignorantly conduct this burglar into his family's heart. It was the Bottle Conjuror! Upon the opening of that fatal cork, forth flew the fiend, and shrivelled up his home. Now, for prudent, most wise, and economic reasons, the blacksmith's shop was in the basement of his dwelling, but with a separate entrance to it; so that always had the young and loving healthy wife listened with no unhappy nervousness, but with vigorous pleasure, to the stout ringing of her young-armed old husband's hammer; whose reverberations, muffled by passing through the floors and walls, came up to her, not unsweetly, in her nursery; and so, to stout Labor's iron lullaby, the blacksmith's infants were rocked to slumber. Oh, woe on woe! Oh, Death, why canst thou not sometimes be timely? Hadst thou taken this old blacksmith to thyself ere his full ruin came upon him, then had the young widow had a delicious grief, and her orphans a truly venerable, legendary sire to dream of in their after years; and all of them a care-killing competency.\n",
            "        </p>\n",
            "      </div>\n",
            "  </body>\n",
            "</html>\n"
          ]
        }
      ],
      "source": [
        "with open('page.html') as f:\n",
        "  contents = f.read()\n",
        "print(contents)"
      ]
    },
    {
      "cell_type": "code",
      "execution_count": 5,
      "metadata": {
        "id": "HSVlzwxD4mMf"
      },
      "outputs": [],
      "source": [
        "path = Path('data/')\n",
        "path.mkdir(exist_ok=True)\n",
        "path_html = path/\"page2.html\"\n",
        "if not path_html.exists(): urlretrieve('https://httpbin.org/html', path_html)"
      ]
    },
    {
      "cell_type": "code",
      "execution_count": 6,
      "metadata": {
        "colab": {
          "base_uri": "https://localhost:8080/"
        },
        "id": "ubrbbnan7ADf",
        "outputId": "6f335658-b994-4c2d-b0e3-5a41f263a02c"
      },
      "outputs": [
        {
          "data": {
            "text/plain": [
              "b\"<!DOCTYPE html>\\n<html>\\n  <head>\\n  </head>\\n  <body>\\n      <h1>Herman Melville - Moby-Dick</h1>\\n\\n      <div>\\n        <p>\\n          Availing himself of the mild, summer-cool weather that now reigned in these latitudes, and in preparation for the peculiarly active pursuits shortly to be anticipated, Perth, the begrimed, blistered old blacksmith, had not removed his portable forge to the hold again, after concluding his contributory work for Ahab's leg, but still retained it on deck, fast lashed to ringbolts by the foremast; being now almost incessantly invoked by the headsmen, and harpooneers, and bowsmen to do some little job for them; altering, or repairing, or new shaping their various weapons and boat furniture. Often he would be surrounded by an eager circle, all waiting to be served; holding boat-spades, pike-heads, harpoons, and lances, and jealously watching his every sooty movement, as he toiled. Nevertheless, this old man's was a patient hammer wielded by a patient arm. No murmur, no impatience, no petulance did come from him. Silent, slow, and solemn; bowing over still further his chronically broken back, he toiled away, as if toil were life itself, and the heavy beating of his hammer the heavy beating of his heart. And so it was.\\xe2\\x80\\x94Most miserable! A peculiar walk in this old man, a certain slight but painful appearing yawing in his gait, had at an early period of the voyage excited the curiosity of the mariners. And to the importunity of their persisted questionings he had finally given in; and so it came to pass that every one now knew the shameful story of his wretched fate. Belated, and not innocently, one bitter winter's midnight, on the road running between two country towns, the blacksmith half-stupidly felt the deadly numbness stealing over him, and sought refuge in a leaning, dilapidated barn. The issue was, the loss of the extremities of both feet. Out of this revelation, part by part, at last came out the four acts of the gladness, and the one long, and as yet uncatastrophied fifth act of the grief of his life's drama. He was an old man, who, at the age of nearly sixty, had postponedly encountered that thing in sorrow's technicals called ruin. He had been an artisan of famed excellence, and with plenty to do; owned a house and garden; embraced a youthful, daughter-like, loving wife, and three blithe, ruddy children; every Sunday went to a cheerful-looking church, planted in a grove. But one night, under cover of darkness, and further concealed in a most cunning disguisement, a desperate burglar slid into his happy home, and robbed them all of everything. And darker yet to tell, the blacksmith himself did ignorantly conduct this burglar into his family's heart. It was the Bottle Conjuror! Upon the opening of that fatal cork, forth flew the fiend, and shrivelled up his home. Now, for prudent, most wise, and economic reasons, the blacksmith's shop was in the basement of his dwelling, but with a separate entrance to it; so that always had the young and loving healthy wife listened with no unhappy nervousness, but with vigorous pleasure, to the stout ringing of her young-armed old husband's hammer; whose reverberations, muffled by passing through the floors and walls, came up to her, not unsweetly, in her nursery; and so, to stout Labor's iron lullaby, the blacksmith's infants were rocked to slumber. Oh, woe on woe! Oh, Death, why canst thou not sometimes be timely? Hadst thou taken this old blacksmith to thyself ere his full ruin came upon him, then had the young widow had a delicious grief, and her orphans a truly venerable, legendary sire to dream of in their after years; and all of them a care-killing competency.\\n        </p>\\n      </div>\\n  </body>\\n</html>\""
            ]
          },
          "execution_count": 6,
          "metadata": {},
          "output_type": "execute_result"
        }
      ],
      "source": [
        "path_html.read_bytes()"
      ]
    },
    {
      "cell_type": "markdown",
      "metadata": {
        "id": "YtLpXomzBRQD"
      },
      "source": [
        "## download fashion-mnist train and labels dataset"
      ]
    },
    {
      "cell_type": "code",
      "execution_count": 7,
      "metadata": {
        "id": "PG_gTh5d7Msj"
      },
      "outputs": [],
      "source": [
        "path_mnist_train_x = path/'mnist_train_x.gz'\n",
        "path_mnist_train_y = path/'mnist_train_y.gz'\n",
        "train_x_url = 'http://fashion-mnist.s3-website.eu-central-1.amazonaws.com/train-images-idx3-ubyte.gz'\n",
        "train_y_url = 'http://fashion-mnist.s3-website.eu-central-1.amazonaws.com/train-labels-idx1-ubyte.gz'\n",
        "\n",
        "if not path_mnist_train_x.exists(): urlretrieve(train_x_url, path_mnist_train_x)\n",
        "if not path_mnist_train_y.exists(): urlretrieve(train_y_url, path_mnist_train_y)"
      ]
    },
    {
      "cell_type": "code",
      "execution_count": 8,
      "metadata": {
        "colab": {
          "base_uri": "https://localhost:8080/"
        },
        "id": "QoAzNiFYAPfl",
        "outputId": "cea5649d-d582-41b0-f64c-0075dc91a4f1"
      },
      "outputs": [
        {
          "name": "stdout",
          "output_type": "stream",
          "text": [
            "total 25840\n",
            "-rw-r--r-- 1 root root 26421880 Jul 26 05:26 mnist_train_x.gz\n",
            "-rw-r--r-- 1 root root    29515 Jul 26 05:26 mnist_train_y.gz\n",
            "-rw-r--r-- 1 root root     3741 Jul 26 05:26 page2.html\n"
          ]
        }
      ],
      "source": [
        "!ls -l data"
      ]
    },
    {
      "cell_type": "code",
      "execution_count": 9,
      "metadata": {
        "colab": {
          "base_uri": "https://localhost:8080/"
        },
        "id": "nH3SteYCB0Rr",
        "outputId": "461507f4-b28d-4fe3-c2bc-3fabeb0d5d45"
      },
      "outputs": [
        {
          "name": "stdout",
          "output_type": "stream",
          "text": [
            "b'\\x00\\x00\\x08\\x03\\x00\\x00\\xea`\\x00\\x00\\x00\\x1c\\x00\\x00\\x00\\x1c\\x00\\x00\\x00\\x00\\x00\\x00\\x00\\x00\\x00\\x00\\x00\\x00\\x00\\x00\\x00\\x00\\x00\\x00\\x00\\x00\\x00\\x00\\x00\\x00\\x00\\x00\\x00\\x00\\x00\\x00\\x00\\x00\\x00\\x00\\x00\\x00\\x00\\x00\\x00\\x00\\x00\\x00\\x00\\x00\\x00\\x00\\x00\\x00\\x00\\x00\\x00\\x00\\x00\\x00\\x00\\x00\\x00\\x00\\x00\\x00\\x00\\x00\\x00\\x00\\x00\\x00\\x00\\x00\\x00\\x00\\x00\\x00\\x00\\x00\\x00\\x00\\x00\\x00\\x00\\x00\\x00\\x00\\x00\\x00'\n"
          ]
        }
      ],
      "source": [
        "with gzip.open(path_mnist_train_x, 'rb') as f:\n",
        "  print(f.read(100))"
      ]
    },
    {
      "cell_type": "code",
      "execution_count": 10,
      "metadata": {
        "id": "H3VI0rsvCvil"
      },
      "outputs": [],
      "source": [
        "import gzip\n",
        "import struct\n",
        "\n",
        "def load_idx_to_lists(path_gz: str):\n",
        "    \"\"\"\n",
        "    Read a gzip-compressed IDX file and return its contents as nested Python lists.\n",
        "\n",
        "    Parameters\n",
        "    ----------\n",
        "    path_gz : str | pathlib.Path\n",
        "        Path to the `.gz` file (e.g. train-images-idx3-ubyte.gz)\n",
        "\n",
        "    Returns\n",
        "    -------\n",
        "    list\n",
        "      flat list of idx\n",
        "    \"\"\"\n",
        "\n",
        "    # IDX data-type map (only unsigned byte needed for MNIST/Fashion-MNIST)\n",
        "    DTYPE = {0x08: 'B'}   # unsigned byte -> Python int\n",
        "\n",
        "    with gzip.open(path_gz, 'rb') as f:\n",
        "        # --- 1. read & parse header ---\n",
        "        magic = f.read(4)\n",
        "        if len(magic) != 4:\n",
        "            raise ValueError(\"Invalid IDX header\")\n",
        "\n",
        "        zeros, dtype_code, ndim = struct.unpack('>HBB', magic)\n",
        "        if zeros != 0 or dtype_code not in DTYPE:\n",
        "            raise ValueError(\"Unsupported IDX format\")\n",
        "\n",
        "        fmt = '>' + DTYPE[dtype_code]          # '>B' for unsigned byte\n",
        "        shape = struct.unpack('>' + 'I' * ndim, f.read(4 * ndim))\n",
        "\n",
        "        # --- 2. read flat byte data ---\n",
        "        flat_bytes = f.read()\n",
        "        flat = [struct.unpack(fmt, flat_bytes[i:i+1])[0]\n",
        "                for i in range(len(flat_bytes))]\n",
        "\n",
        "        return flat, shape"
      ]
    },
    {
      "cell_type": "code",
      "execution_count": 11,
      "metadata": {
        "id": "94h-psakMIye"
      },
      "outputs": [],
      "source": [
        "train_x, train_x_shp = load_idx_to_lists(path_mnist_train_x)\n",
        "train_y, train_y_shp = load_idx_to_lists(path_mnist_train_y)"
      ]
    },
    {
      "cell_type": "code",
      "execution_count": 12,
      "metadata": {
        "colab": {
          "base_uri": "https://localhost:8080/"
        },
        "id": "FFM0CpaYMMoK",
        "outputId": "7e310ac9-4b23-4334-ac70-3456613b5bbc"
      },
      "outputs": [
        {
          "data": {
            "text/plain": [
              "(47040000, (60000, 28, 28))"
            ]
          },
          "execution_count": 12,
          "metadata": {},
          "output_type": "execute_result"
        }
      ],
      "source": [
        "len(train_x), train_x_shp"
      ]
    },
    {
      "cell_type": "code",
      "execution_count": 13,
      "metadata": {
        "colab": {
          "base_uri": "https://localhost:8080/"
        },
        "id": "PPo8p6PCMcY5",
        "outputId": "2744429e-9578-4bf4-a0f1-93a09fbc1c23"
      },
      "outputs": [
        {
          "data": {
            "text/plain": [
              "(60000, (60000,))"
            ]
          },
          "execution_count": 13,
          "metadata": {},
          "output_type": "execute_result"
        }
      ],
      "source": [
        "len(train_y), train_y_shp"
      ]
    },
    {
      "cell_type": "markdown",
      "metadata": {
        "id": "TaHO_tiMoJL4"
      },
      "source": [
        "### chunk train x to be 60,000, 28, 28"
      ]
    },
    {
      "cell_type": "code",
      "execution_count": 14,
      "metadata": {
        "id": "VKgVc7lDoIiD"
      },
      "outputs": [],
      "source": [
        "x, y, z = train_x_shp"
      ]
    },
    {
      "cell_type": "code",
      "execution_count": 15,
      "metadata": {
        "colab": {
          "base_uri": "https://localhost:8080/"
        },
        "id": "xktSNrljleQS",
        "outputId": "c48ea9ef-3098-4b7b-cf51-2fcf330124c4"
      },
      "outputs": [
        {
          "data": {
            "text/plain": [
              "(60000, 28, 28)"
            ]
          },
          "execution_count": 15,
          "metadata": {},
          "output_type": "execute_result"
        }
      ],
      "source": [
        "x, y, z"
      ]
    },
    {
      "cell_type": "code",
      "execution_count": 16,
      "metadata": {
        "id": "oRm7TfTXoSJV"
      },
      "outputs": [],
      "source": [
        "def chunk(iterable, sz):\n",
        "  for i in range(0, len(iterable), sz): yield iterable[i:i+sz]"
      ]
    },
    {
      "cell_type": "code",
      "execution_count": 17,
      "metadata": {
        "id": "M0QQuvkkpFsY"
      },
      "outputs": [],
      "source": [
        "# turn train_x from shape (60000, 784) to (60000, 28, 28)\n",
        "train_x = list(map((lambda i: list(chunk(i, z))), chunk(train_x, y*z)))"
      ]
    },
    {
      "cell_type": "code",
      "execution_count": 18,
      "metadata": {
        "colab": {
          "base_uri": "https://localhost:8080/"
        },
        "id": "Da45yGJLqGoz",
        "outputId": "3666f71b-4075-4a61-c9a9-78ba9e5e7933"
      },
      "outputs": [
        {
          "data": {
            "text/plain": [
              "(60000, 28, 28)"
            ]
          },
          "execution_count": 18,
          "metadata": {},
          "output_type": "execute_result"
        }
      ],
      "source": [
        "len(train_x), len(train_x[0]), len(train_x[1])"
      ]
    },
    {
      "cell_type": "code",
      "execution_count": 19,
      "metadata": {
        "colab": {
          "base_uri": "https://localhost:8080/",
          "height": 448
        },
        "id": "v0yASwPwqJVF",
        "outputId": "1b2e1631-75a2-4e7c-fec9-1739107109b4"
      },
      "outputs": [
        {
          "data": {
            "text/plain": [
              "<matplotlib.image.AxesImage at 0x7b078f3a90d0>"
            ]
          },
          "execution_count": 19,
          "metadata": {},
          "output_type": "execute_result"
        },
        {
          "data": {
            "image/png": "[encoded data removed]",
            "text/plain": [
              "<Figure size 640x480 with 1 Axes>"
            ]
          },
          "metadata": {},
          "output_type": "display_data"
        }
      ],
      "source": [
        "mpl.rcParams['image.cmap'] = 'gray'\n",
        "plt.imshow(train_x[390])"
      ]
    },
    {
      "cell_type": "markdown",
      "metadata": {
        "id": "7bSQdnLwwE6L"
      },
      "source": [
        "### matrix and tensor"
      ]
    },
    {
      "cell_type": "code",
      "execution_count": 20,
      "metadata": {
        "id": "UzFB6XYawmR6"
      },
      "outputs": [],
      "source": [
        "train_x = [[[pixel/255.0 for pixel in row] for row in img] for img in train_x]"
      ]
    },
    {
      "cell_type": "code",
      "execution_count": 21,
      "metadata": {
        "colab": {
          "base_uri": "https://localhost:8080/"
        },
        "id": "vkgqBmR-0Elo",
        "outputId": "12449c8c-98fc-478a-f99f-af8949674c1e"
      },
      "outputs": [
        {
          "data": {
            "text/plain": [
              "0.7647058823529411"
            ]
          },
          "execution_count": 21,
          "metadata": {},
          "output_type": "execute_result"
        }
      ],
      "source": [
        "img = train_x[0]\n",
        "img[20][15]"
      ]
    },
    {
      "cell_type": "code",
      "execution_count": 22,
      "metadata": {
        "id": "lP3GVIqKzkuz"
      },
      "outputs": [],
      "source": [
        "class Matrix:\n",
        "  def __init__(self, xs): self.xs = xs\n",
        "  def __getitem__(self, idxs): return self.xs[idxs[0]][idxs[1]]"
      ]
    },
    {
      "cell_type": "code",
      "execution_count": 23,
      "metadata": {
        "colab": {
          "base_uri": "https://localhost:8080/"
        },
        "id": "mq5JWUwiz9eS",
        "outputId": "43da9aeb-1557-4e83-e4d4-b703e288d0e3"
      },
      "outputs": [
        {
          "data": {
            "text/plain": [
              "0.7647058823529411"
            ]
          },
          "execution_count": 23,
          "metadata": {},
          "output_type": "execute_result"
        }
      ],
      "source": [
        "m = Matrix(img)\n",
        "m[20,15]"
      ]
    },
    {
      "cell_type": "code",
      "execution_count": 24,
      "metadata": {
        "id": "jMMRfw9W0Anb"
      },
      "outputs": [],
      "source": [
        "import torch"
      ]
    },
    {
      "cell_type": "code",
      "execution_count": 25,
      "metadata": {
        "id": "2EERo-gZ9dpN"
      },
      "outputs": [],
      "source": [
        "from torch import tensor"
      ]
    },
    {
      "cell_type": "code",
      "execution_count": 26,
      "metadata": {
        "colab": {
          "base_uri": "https://localhost:8080/"
        },
        "id": "9vMfXPsu9f90",
        "outputId": "44d9d465-152c-49d2-d62b-f735236c5f07"
      },
      "outputs": [
        {
          "data": {
            "text/plain": [
              "tensor([1., 2., 3.])"
            ]
          },
          "execution_count": 26,
          "metadata": {},
          "output_type": "execute_result"
        }
      ],
      "source": [
        "tensor([1., 2., 3.])"
      ]
    },
    {
      "cell_type": "code",
      "execution_count": 27,
      "metadata": {
        "colab": {
          "base_uri": "https://localhost:8080/"
        },
        "id": "mGqRZy1d9mSZ",
        "outputId": "74bbcfb2-de9f-48a3-e47d-853cf8d404c9"
      },
      "outputs": [
        {
          "data": {
            "text/plain": [
              "tensor(0.7647)"
            ]
          },
          "execution_count": 27,
          "metadata": {},
          "output_type": "execute_result"
        }
      ],
      "source": [
        "tens = tensor(img)\n",
        "tens[20,15]"
      ]
    },
    {
      "cell_type": "code",
      "execution_count": 28,
      "metadata": {
        "id": "1F85r_-K9nif"
      },
      "outputs": [],
      "source": [
        "x_train, y_train = map(tensor, (train_x, train_y))"
      ]
    },
    {
      "cell_type": "code",
      "execution_count": 29,
      "metadata": {
        "colab": {
          "base_uri": "https://localhost:8080/"
        },
        "id": "3sNl8JMn9-jX",
        "outputId": "9a597f7b-af2d-48a2-d2e3-75b9f4eef2b7"
      },
      "outputs": [
        {
          "data": {
            "text/plain": [
              "(torch.Size([60000, 28, 28]), torch.Size([60000]))"
            ]
          },
          "execution_count": 29,
          "metadata": {},
          "output_type": "execute_result"
        }
      ],
      "source": [
        "x_train.shape, y_train.shape"
      ]
    },
    {
      "cell_type": "code",
      "execution_count": 30,
      "metadata": {
        "colab": {
          "base_uri": "https://localhost:8080/",
          "height": 35
        },
        "id": "R0W0XXex-BQQ",
        "outputId": "891ba694-483f-49f1-ae0a-447b51e19065"
      },
      "outputs": [
        {
          "data": {
            "application/vnd.google.colaboratory.intrinsic+json": {
              "type": "string"
            },
            "text/plain": [
              "'torch.FloatTensor'"
            ]
          },
          "execution_count": 30,
          "metadata": {},
          "output_type": "execute_result"
        }
      ],
      "source": [
        "x_train.type()"
      ]
    },
    {
      "cell_type": "markdown",
      "metadata": {
        "id": "_95nH62G_7AY"
      },
      "source": [
        "### random number generator from scratch"
      ]
    },
    {
      "cell_type": "code",
      "execution_count": 31,
      "metadata": {
        "id": "_neTceDO-92A"
      },
      "outputs": [],
      "source": [
        "# based on the wichmann hill algorithm\n",
        "rnd_state = None\n",
        "def seed(a):\n",
        "  global rnd_state\n",
        "  a, x = divmod(a, 30268)\n",
        "  a, y = divmod(a, 30306)\n",
        "  a, z = divmod(a, 30322)\n",
        "  rnd_state = int(x)+1, int(y)+1, int(z)+1"
      ]
    },
    {
      "cell_type": "code",
      "execution_count": 32,
      "metadata": {
        "id": "ugzEwwBUCM0p"
      },
      "outputs": [],
      "source": [
        "seed(42)"
      ]
    },
    {
      "cell_type": "code",
      "execution_count": 33,
      "metadata": {
        "id": "AdvFis_UCN1f"
      },
      "outputs": [],
      "source": [
        "def rand():\n",
        "    global rnd_state\n",
        "    x, y, z = rnd_state\n",
        "    x = (171 * x) % 30269\n",
        "    y = (172 * y) % 30307\n",
        "    z = (170 * z) % 30323\n",
        "    rnd_state = x,y,z\n",
        "    return (x/30269 + y/30307 + z/30323) % 1.0"
      ]
    },
    {
      "cell_type": "code",
      "execution_count": 34,
      "metadata": {
        "colab": {
          "base_uri": "https://localhost:8080/"
        },
        "id": "yx7pp9WCCt7S",
        "outputId": "8d1e004b-32f7-496e-de78-c8c0c77e19c0"
      },
      "outputs": [
        {
          "data": {
            "text/plain": [
              "0.25420336316883324"
            ]
          },
          "execution_count": 34,
          "metadata": {},
          "output_type": "execute_result"
        }
      ],
      "source": [
        "rand()"
      ]
    },
    {
      "cell_type": "code",
      "execution_count": 35,
      "metadata": {
        "colab": {
          "base_uri": "https://localhost:8080/"
        },
        "id": "nZeqnRYACuun",
        "outputId": "a7ff48c4-3905-443c-8b98-a7a9520b31dd"
      },
      "outputs": [
        {
          "data": {
            "text/plain": [
              "0.25420336316883324"
            ]
          },
          "execution_count": 35,
          "metadata": {},
          "output_type": "execute_result"
        }
      ],
      "source": [
        "seed(42)\n",
        "rand()"
      ]
    },
    {
      "cell_type": "code",
      "execution_count": 36,
      "metadata": {
        "colab": {
          "base_uri": "https://localhost:8080/"
        },
        "id": "0XxEagTgC8dd",
        "outputId": "db5addba-3950-46a7-a7e4-59aeea6a3912"
      },
      "outputs": [
        {
          "name": "stdout",
          "output_type": "stream",
          "text": [
            "In parent: 0.46884405296716114\n",
            "In child: 0.46884405296716114\n"
          ]
        }
      ],
      "source": [
        "\n",
        "if os.fork(): print(f'In parent: {rand()}')\n",
        "else:\n",
        "    print(f'In child: {rand()}')\n",
        "    os._exit(os.EX_OK)\n"
      ]
    },
    {
      "cell_type": "code",
      "execution_count": 37,
      "metadata": {
        "colab": {
          "base_uri": "https://localhost:8080/"
        },
        "id": "Zv7oVkxJDn5U",
        "outputId": "1381d1b0-2765-49cf-b2e7-e99487437519"
      },
      "outputs": [
        {
          "name": "stdout",
          "output_type": "stream",
          "text": [
            "in parent: tensor([0.9596])\n",
            "in child: tensor([0.9596])\n"
          ]
        }
      ],
      "source": [
        "if os.fork(): print(f\"in parent: {torch.rand(1)}\")\n",
        "else:\n",
        "  print(f\"in child: {torch.rand(1)}\")\n",
        "  os._exit(os.EX_OK)"
      ]
    },
    {
      "cell_type": "code",
      "execution_count": 38,
      "metadata": {
        "colab": {
          "base_uri": "https://localhost:8080/",
          "height": 448
        },
        "id": "eBLda6I2FbAV",
        "outputId": "8ff0c94a-13d1-4106-dc9b-e569002d40ad"
      },
      "outputs": [
        {
          "data": {
            "text/plain": [
              "[<matplotlib.lines.Line2D at 0x7b0774236690>]"
            ]
          },
          "execution_count": 38,
          "metadata": {},
          "output_type": "execute_result"
        },
        {
          "data": {
            "image/png": "[encoded data removed]",
            "text/plain": [
              "<Figure size 640x480 with 1 Axes>"
            ]
          },
          "metadata": {},
          "output_type": "display_data"
        }
      ],
      "source": [
        "plt.plot([rand() for _ in range(50)])"
      ]
    },
    {
      "cell_type": "code",
      "execution_count": 39,
      "metadata": {
        "colab": {
          "base_uri": "https://localhost:8080/",
          "height": 537
        },
        "id": "CX-08FEsHu7D",
        "outputId": "1294270a-903c-4971-e04e-30bab268f473"
      },
      "outputs": [
        {
          "data": {
            "text/plain": [
              "(array([1000.,  986., 1057., 1033.,  953., 1004., 1031.,  975., 1007.,\n",
              "         954.]),\n",
              " array([1.44098502e-04, 1.00125624e-01, 2.00107150e-01, 3.00088676e-01,\n",
              "        4.00070202e-01, 5.00051728e-01, 6.00033254e-01, 7.00014780e-01,\n",
              "        7.99996306e-01, 8.99977832e-01, 9.99959358e-01]),\n",
              " <BarContainer object of 10 artists>)"
            ]
          },
          "execution_count": 39,
          "metadata": {},
          "output_type": "execute_result"
        },
        {
          "data": {
            "image/png": "[encoded data removed]",
            "text/plain": [
              "<Figure size 640x480 with 1 Axes>"
            ]
          },
          "metadata": {},
          "output_type": "display_data"
        }
      ],
      "source": [
        "plt.hist([rand() for _ in range(10000)])"
      ]
    },
    {
      "cell_type": "code",
      "execution_count": 40,
      "metadata": {
        "colab": {
          "base_uri": "https://localhost:8080/"
        },
        "id": "8-vJELdPH2_l",
        "outputId": "098b9146-3854-4560-8f15-c4a77e6d6116"
      },
      "outputs": [
        {
          "name": "stdout",
          "output_type": "stream",
          "text": [
            "4.35 ms ± 371 µs per loop (mean ± std. dev. of 7 runs, 10 loops each)\n"
          ]
        }
      ],
      "source": [
        "%timeit -n 10 list(chunk([rand() for _ in range(7840)], 10))"
      ]
    },
    {
      "cell_type": "code",
      "execution_count": 41,
      "metadata": {
        "colab": {
          "base_uri": "https://localhost:8080/"
        },
        "id": "BZ_5aTjQIu_g",
        "outputId": "20570992-1caf-4fa6-f7ce-5a65dabe6b82"
      },
      "outputs": [
        {
          "name": "stdout",
          "output_type": "stream",
          "text": [
            "The slowest run took 5.85 times longer than the fastest. This could mean that an intermediate result is being cached.\n",
            "119 µs ± 99 µs per loop (mean ± std. dev. of 7 runs, 10 loops each)\n"
          ]
        }
      ],
      "source": [
        "%timeit -n 10 torch.randn(784,10)"
      ]
    },
    {
      "cell_type": "markdown",
      "metadata": {
        "id": "xK-lwqLuB91z"
      },
      "source": [
        "## Matrix Multiplication"
      ]
    },
    {
      "cell_type": "code",
      "execution_count": 42,
      "metadata": {
        "colab": {
          "base_uri": "https://localhost:8080/"
        },
        "id": "zPUwmfxZI7s5",
        "outputId": "7ee8a6bf-fb63-4190-9289-5edaaa118991"
      },
      "outputs": [
        {
          "data": {
            "text/plain": [
              "torch.Size([60000, 784])"
            ]
          },
          "execution_count": 42,
          "metadata": {},
          "output_type": "execute_result"
        }
      ],
      "source": [
        "x_train = x_train.view(60000, -1)\n",
        "x_train.shape"
      ]
    },
    {
      "cell_type": "code",
      "execution_count": 43,
      "metadata": {
        "id": "xxDtWGboC5h3"
      },
      "outputs": [],
      "source": [
        "weights = torch.randn(784, 10)\n",
        "bias = torch.randn(10)"
      ]
    },
    {
      "cell_type": "code",
      "execution_count": 44,
      "metadata": {
        "id": "a5rQK8YKCCfq"
      },
      "outputs": [],
      "source": [
        "m1 = x_train[:5]\n",
        "m2 = weights\n",
        "# m1 = torch.tensor([[1,2], [3, 4], [5, 6]])\n",
        "# m2 = torch.tensor([[7, 9, 11], [8, 10, 12]])"
      ]
    },
    {
      "cell_type": "code",
      "execution_count": 45,
      "metadata": {
        "colab": {
          "base_uri": "https://localhost:8080/"
        },
        "id": "aj4FUWcMCoSI",
        "outputId": "70eb7d2b-4b94-4854-db02-784bc9fada97"
      },
      "outputs": [
        {
          "data": {
            "text/plain": [
              "(torch.Size([5, 784]), torch.Size([784, 10]))"
            ]
          },
          "execution_count": 45,
          "metadata": {},
          "output_type": "execute_result"
        }
      ],
      "source": [
        "m1.shape, m2.shape"
      ]
    },
    {
      "cell_type": "code",
      "execution_count": 46,
      "metadata": {
        "colab": {
          "base_uri": "https://localhost:8080/"
        },
        "id": "IxSi48ZGC-Cg",
        "outputId": "feeb5b6e-99f9-4a3d-ab91-d4ca5e648bbf"
      },
      "outputs": [
        {
          "data": {
            "text/plain": [
              "((5, 784), (784, 10))"
            ]
          },
          "execution_count": 46,
          "metadata": {},
          "output_type": "execute_result"
        }
      ],
      "source": [
        "ar, ac = m1.shape\n",
        "br, bc = m2.shape\n",
        "(ar, ac), (br, bc)"
      ]
    },
    {
      "cell_type": "code",
      "execution_count": 47,
      "metadata": {
        "id": "tQtKgIMREffr"
      },
      "outputs": [],
      "source": [
        "res = torch.zeros(ar, bc)"
      ]
    },
    {
      "cell_type": "code",
      "execution_count": 48,
      "metadata": {
        "id": "uPBMwTmTDGiB"
      },
      "outputs": [],
      "source": [
        "for i in range(ar):\n",
        "  for k in range(ac):\n",
        "    for j in range(bc):\n",
        "      res[i,j] += (m1[i,k] * m2[k,j])"
      ]
    },
    {
      "cell_type": "code",
      "execution_count": 49,
      "metadata": {
        "colab": {
          "base_uri": "https://localhost:8080/"
        },
        "id": "6VVLtd2UFOgn",
        "outputId": "38bff4b8-30fc-4e95-908a-edfc79099b5e"
      },
      "outputs": [
        {
          "data": {
            "text/plain": [
              "(tensor([[ 1.1530e+01,  2.3420e+01, -1.8425e+01, -2.3015e+01,  7.4059e+00,\n",
              "           1.4997e+01,  2.9726e+00, -1.1810e+00,  2.9914e+00, -1.8528e+00],\n",
              "         [ 1.9191e+01,  2.6150e+01, -9.4763e+00, -8.6394e-01,  4.3896e+00,\n",
              "           2.1563e+01,  1.0014e+01,  1.0784e+01, -3.8496e+00, -1.3220e+01],\n",
              "         [ 2.5757e+00,  3.8298e+00, -4.5285e+00,  1.4742e+00, -3.5365e-01,\n",
              "           1.1591e+01,  1.2838e-01,  1.7775e+00,  6.4072e+00, -5.5506e+00],\n",
              "         [ 4.7746e+00,  2.1229e+01, -4.8243e+00, -5.2080e-03, -5.6599e+00,\n",
              "           1.3742e+01,  9.7805e+00,  1.8285e+00, -5.8912e-01, -6.1215e+00],\n",
              "         [ 7.1116e+00,  2.0857e+01, -2.3477e+00, -6.8644e+00,  1.0960e+01,\n",
              "           2.2883e+01,  1.4269e+01,  1.9131e+00,  6.8462e+00, -1.9587e+01]]),\n",
              " torch.Size([5, 10]))"
            ]
          },
          "execution_count": 49,
          "metadata": {},
          "output_type": "execute_result"
        }
      ],
      "source": [
        "res, res.shape"
      ]
    },
    {
      "cell_type": "code",
      "execution_count": 102,
      "metadata": {
        "id": "C9f9XqmVFPA9"
      },
      "outputs": [],
      "source": [
        "def matmul(a, b):\n",
        "  ar, ac = a.shape\n",
        "  br, bc = b.shape\n",
        "  res = torch.zeros(ar, bc)\n",
        "  for i in range(ar):\n",
        "    for k in range(ac):\n",
        "      for j in range(bc):\n",
        "        res[i,j] += (m1[i,k] * m2[k,j])\n",
        "  return res"
      ]
    },
    {
      "cell_type": "code",
      "execution_count": 103,
      "metadata": {
        "id": "5i1KzgXjOFSI"
      },
      "outputs": [],
      "source": [
        "t1 = matmul(m1, m2)"
      ]
    },
    {
      "cell_type": "code",
      "execution_count": 104,
      "metadata": {
        "colab": {
          "base_uri": "https://localhost:8080/"
        },
        "id": "yXDVhiA6OJSG",
        "outputId": "0d3fe74c-3ccb-4531-c901-ed74d19202fc"
      },
      "outputs": [
        {
          "data": {
            "text/plain": [
              "tensor([[ 1.1530e+01,  2.3420e+01, -1.8425e+01, -2.3015e+01,  7.4059e+00,\n",
              "          1.4997e+01,  2.9726e+00, -1.1810e+00,  2.9914e+00, -1.8528e+00],\n",
              "        [ 1.9191e+01,  2.6150e+01, -9.4763e+00, -8.6394e-01,  4.3896e+00,\n",
              "          2.1563e+01,  1.0014e+01,  1.0784e+01, -3.8496e+00, -1.3220e+01],\n",
              "        [ 2.5757e+00,  3.8298e+00, -4.5285e+00,  1.4742e+00, -3.5365e-01,\n",
              "          1.1591e+01,  1.2838e-01,  1.7775e+00,  6.4072e+00, -5.5506e+00],\n",
              "        [ 4.7746e+00,  2.1229e+01, -4.8243e+00, -5.2080e-03, -5.6599e+00,\n",
              "          1.3742e+01,  9.7805e+00,  1.8285e+00, -5.8912e-01, -6.1215e+00],\n",
              "        [ 7.1116e+00,  2.0857e+01, -2.3477e+00, -6.8644e+00,  1.0960e+01,\n",
              "          2.2883e+01,  1.4269e+01,  1.9131e+00,  6.8462e+00, -1.9587e+01]])"
            ]
          },
          "execution_count": 104,
          "metadata": {},
          "output_type": "execute_result"
        }
      ],
      "source": [
        "t1"
      ]
    },
    {
      "cell_type": "code",
      "execution_count": 53,
      "metadata": {
        "colab": {
          "base_uri": "https://localhost:8080/"
        },
        "id": "nZq9kx1GHnkL",
        "outputId": "e6289eae-2c7f-44d6-84df-6f198431646b"
      },
      "outputs": [
        {
          "name": "stdout",
          "output_type": "stream",
          "text": [
            "CPU times: user 1.04 s, sys: 5.16 ms, total: 1.05 s\n",
            "Wall time: 1.06 s\n"
          ]
        }
      ],
      "source": [
        "%time _= matmul(m1, m2)"
      ]
    },
    {
      "cell_type": "markdown",
      "metadata": {
        "id": "Rx4XMM8mLEIg"
      },
      "source": [
        "## Numba"
      ]
    },
    {
      "cell_type": "code",
      "execution_count": 54,
      "metadata": {
        "id": "Wgbd4v90HtmK"
      },
      "outputs": [],
      "source": [
        "from numba import njit\n",
        "import numpy as np"
      ]
    },
    {
      "cell_type": "code",
      "execution_count": 55,
      "metadata": {
        "id": "6WWaAd-ALIhM"
      },
      "outputs": [],
      "source": [
        "@njit\n",
        "def dot(a, b):\n",
        "  res = 0\n",
        "  for i in range(len(a)): res += a[i] * b[i]\n",
        "  return res"
      ]
    },
    {
      "cell_type": "code",
      "execution_count": 56,
      "metadata": {
        "colab": {
          "base_uri": "https://localhost:8080/"
        },
        "id": "qBnR54frLWBx",
        "outputId": "6607f810-18bf-4194-cbe5-0186543e3fe3"
      },
      "outputs": [
        {
          "name": "stdout",
          "output_type": "stream",
          "text": [
            "CPU times: user 1.31 s, sys: 102 ms, total: 1.41 s\n",
            "Wall time: 1.59 s\n"
          ]
        },
        {
          "data": {
            "text/plain": [
              "20.0"
            ]
          },
          "execution_count": 56,
          "metadata": {},
          "output_type": "execute_result"
        }
      ],
      "source": [
        "%time dot(np.array([1., 2., 3.]), np.array([2., 3., 4.]))"
      ]
    },
    {
      "cell_type": "code",
      "execution_count": 57,
      "metadata": {
        "colab": {
          "base_uri": "https://localhost:8080/"
        },
        "id": "61VtDUhLLbH1",
        "outputId": "7972d2ee-6d7e-4819-c9fe-a16d6eaa9796"
      },
      "outputs": [
        {
          "name": "stdout",
          "output_type": "stream",
          "text": [
            "CPU times: user 34 µs, sys: 2 µs, total: 36 µs\n",
            "Wall time: 41.5 µs\n"
          ]
        },
        {
          "data": {
            "text/plain": [
              "20.0"
            ]
          },
          "execution_count": 57,
          "metadata": {},
          "output_type": "execute_result"
        }
      ],
      "source": [
        "%time dot(np.array([1., 2., 3.]), np.array([2., 3., 4.]))"
      ]
    },
    {
      "cell_type": "code",
      "execution_count": 58,
      "metadata": {
        "colab": {
          "base_uri": "https://localhost:8080/"
        },
        "id": "4b8mNkSOMCMX",
        "outputId": "6c7e545b-73e0-4bb9-d2fe-821578965d4d"
      },
      "outputs": [
        {
          "name": "stdout",
          "output_type": "stream",
          "text": [
            "CPU times: user 36 µs, sys: 3 µs, total: 39 µs\n",
            "Wall time: 44.8 µs\n"
          ]
        },
        {
          "data": {
            "text/plain": [
              "4500.0"
            ]
          },
          "execution_count": 58,
          "metadata": {},
          "output_type": "execute_result"
        }
      ],
      "source": [
        "%time dot(np.array([10., 20., 30., 50.]), np.array([20., 30., 40., 50.]))"
      ]
    },
    {
      "cell_type": "code",
      "execution_count": 59,
      "metadata": {
        "id": "MH7KTiI_MUK6"
      },
      "outputs": [],
      "source": [
        "def matmul(a, b):\n",
        "  ar, ac = a.shape\n",
        "  br, bc = b.shape\n",
        "  res = torch.zeros(ar, bc)\n",
        "  for i in range(ar):\n",
        "    for j in range(bc):\n",
        "      res[i,j] += dot(a[i, :], b[:, j])\n",
        "  return res"
      ]
    },
    {
      "cell_type": "code",
      "execution_count": 60,
      "metadata": {
        "id": "Sfmrho0aNhM5"
      },
      "outputs": [],
      "source": [
        "m1a, m2a = np.array(m1), np.array(m2)"
      ]
    },
    {
      "cell_type": "code",
      "execution_count": 61,
      "metadata": {
        "id": "_Jbgwg9qNlfW"
      },
      "outputs": [],
      "source": [
        "from fastcore.test import *"
      ]
    },
    {
      "cell_type": "code",
      "execution_count": 62,
      "metadata": {
        "id": "cEOemG6DNoK8"
      },
      "outputs": [],
      "source": [
        "test_close(t1, matmul(m1a, m2a))"
      ]
    },
    {
      "cell_type": "code",
      "execution_count": 63,
      "metadata": {
        "colab": {
          "base_uri": "https://localhost:8080/"
        },
        "id": "u8aVQr5jN0L8",
        "outputId": "e5544c22-24a9-422c-8cdd-6a77f5066674"
      },
      "outputs": [
        {
          "name": "stdout",
          "output_type": "stream",
          "text": [
            "1.23 ms ± 170 µs per loop (mean ± std. dev. of 7 runs, 50 loops each)\n"
          ]
        }
      ],
      "source": [
        "%timeit -n 50 matmul(m1a, m2a)"
      ]
    },
    {
      "cell_type": "markdown",
      "metadata": {
        "id": "CcJj0Gv3RmX1"
      },
      "source": [
        "## Elementwise Ops"
      ]
    },
    {
      "cell_type": "code",
      "execution_count": 64,
      "metadata": {
        "id": "YebJ-pWsOqSZ"
      },
      "outputs": [],
      "source": [
        "a = torch.tensor([1., 2., 3.])\n",
        "b = torch.tensor([10., -20., 30.])"
      ]
    },
    {
      "cell_type": "code",
      "execution_count": 65,
      "metadata": {
        "colab": {
          "base_uri": "https://localhost:8080/"
        },
        "id": "viAuXlv3Rw33",
        "outputId": "a3806ac0-3415-4cf2-8993-eb2e76ab3d63"
      },
      "outputs": [
        {
          "data": {
            "text/plain": [
              "tensor([ 11., -18.,  33.])"
            ]
          },
          "execution_count": 65,
          "metadata": {},
          "output_type": "execute_result"
        }
      ],
      "source": [
        "a+b"
      ]
    },
    {
      "cell_type": "code",
      "execution_count": 66,
      "metadata": {
        "colab": {
          "base_uri": "https://localhost:8080/"
        },
        "id": "mQMZVX2IRxfQ",
        "outputId": "3f7e0218-8409-444c-af38-1855b33a684b"
      },
      "outputs": [
        {
          "data": {
            "text/plain": [
              "tensor(0.6667)"
            ]
          },
          "execution_count": 66,
          "metadata": {},
          "output_type": "execute_result"
        }
      ],
      "source": [
        "(a<b).float().mean()"
      ]
    },
    {
      "cell_type": "code",
      "execution_count": 67,
      "metadata": {
        "colab": {
          "base_uri": "https://localhost:8080/"
        },
        "id": "-YsK4C1ITJMZ",
        "outputId": "ffd3a2be-0ac8-489b-a6da-63f05768c4d4"
      },
      "outputs": [
        {
          "data": {
            "text/plain": [
              "tensor([1., 4., 9.])"
            ]
          },
          "execution_count": 67,
          "metadata": {},
          "output_type": "execute_result"
        }
      ],
      "source": [
        "a * a"
      ]
    },
    {
      "cell_type": "code",
      "execution_count": 68,
      "metadata": {
        "id": "33xy12SkRywG"
      },
      "outputs": [],
      "source": [
        "frobenius_norm = (a * a).sum().sqrt()"
      ]
    },
    {
      "cell_type": "code",
      "execution_count": 69,
      "metadata": {
        "colab": {
          "base_uri": "https://localhost:8080/"
        },
        "id": "RkuW9KJOTMF4",
        "outputId": "866e4ccb-a063-4784-cc57-caeb184d6362"
      },
      "outputs": [
        {
          "data": {
            "text/plain": [
              "tensor(3.7417)"
            ]
          },
          "execution_count": 69,
          "metadata": {},
          "output_type": "execute_result"
        }
      ],
      "source": [
        "frobenius_norm"
      ]
    },
    {
      "cell_type": "code",
      "execution_count": 70,
      "metadata": {
        "id": "iwtLeNKHTNZU"
      },
      "outputs": [],
      "source": [
        "def matmul(a, b):\n",
        "  ar, ac = a.shape\n",
        "  br, bc = b.shape\n",
        "  res = torch.zeros(ar, bc)\n",
        "  for i in range(ar):\n",
        "    for j in range(bc):\n",
        "      res[i,j] = (a[i,:] * b[:,j]).sum()\n",
        "  return res"
      ]
    },
    {
      "cell_type": "code",
      "execution_count": 71,
      "metadata": {
        "id": "9Wh-dhKLVeMY"
      },
      "outputs": [],
      "source": [
        "test_close(t1, matmul(m1, m2))"
      ]
    },
    {
      "cell_type": "code",
      "execution_count": 72,
      "metadata": {
        "colab": {
          "base_uri": "https://localhost:8080/"
        },
        "id": "5nVNASOJVh2T",
        "outputId": "e14bf561-11af-4cad-8f12-f116d4023d30"
      },
      "outputs": [
        {
          "name": "stdout",
          "output_type": "stream",
          "text": [
            "1.8 ms ± 231 µs per loop (mean ± std. dev. of 7 runs, 50 loops each)\n"
          ]
        }
      ],
      "source": [
        "%timeit -n 50 matmul(m1,m2)"
      ]
    },
    {
      "cell_type": "code",
      "execution_count": 73,
      "metadata": {
        "id": "64sX1wYIVkbu"
      },
      "outputs": [],
      "source": [
        "def matmul(a, b):\n",
        "  ar, ac = a.shape\n",
        "  br, bc = b.shape\n",
        "  res = torch.zeros(ar, bc)\n",
        "  for i in range(ar):\n",
        "    for j in range(bc):\n",
        "      res[i,j] = torch.dot(a[i,:], b[:,j])\n",
        "  return res"
      ]
    },
    {
      "cell_type": "code",
      "execution_count": 74,
      "metadata": {
        "id": "dkpTPg3wWY9N"
      },
      "outputs": [],
      "source": [
        "test_close(t1, matmul(m1, m2), eps=1e-3)"
      ]
    },
    {
      "cell_type": "code",
      "execution_count": 75,
      "metadata": {
        "colab": {
          "base_uri": "https://localhost:8080/"
        },
        "id": "e7FHLdZpWanm",
        "outputId": "38a4d983-0966-4e79-d0e3-3d91a29570cd"
      },
      "outputs": [
        {
          "name": "stdout",
          "output_type": "stream",
          "text": [
            "1.25 ms ± 83.9 µs per loop (mean ± std. dev. of 7 runs, 50 loops each)\n"
          ]
        }
      ],
      "source": [
        "%timeit -n 50 matmul(m1,m2)"
      ]
    },
    {
      "cell_type": "code",
      "execution_count": 76,
      "metadata": {
        "id": "MQNiiXBSXOlI"
      },
      "outputs": [],
      "source": [
        "m = torch.tensor([[1., 2., 3.], [4., 5., 6.], [7., 8., 9.]])\n",
        "t = torch.tensor([10., 20., 30.])"
      ]
    },
    {
      "cell_type": "code",
      "execution_count": 77,
      "metadata": {
        "colab": {
          "base_uri": "https://localhost:8080/"
        },
        "id": "YVcDgKj1NPAI",
        "outputId": "250dd333-771f-4e72-ce43-b31f381809b4"
      },
      "outputs": [
        {
          "data": {
            "text/plain": [
              "(torch.Size([3, 3]), torch.Size([3]))"
            ]
          },
          "execution_count": 77,
          "metadata": {},
          "output_type": "execute_result"
        }
      ],
      "source": [
        "m.shape, t.shape"
      ]
    },
    {
      "cell_type": "code",
      "execution_count": 78,
      "metadata": {
        "colab": {
          "base_uri": "https://localhost:8080/"
        },
        "id": "rXTdgrn-NRoY",
        "outputId": "92a0a101-4c5d-45e4-8118-a4c0bb96c43d"
      },
      "outputs": [
        {
          "data": {
            "text/plain": [
              "torch.Size([3, 3])"
            ]
          },
          "execution_count": 78,
          "metadata": {},
          "output_type": "execute_result"
        }
      ],
      "source": [
        "c = m+t; c.shape"
      ]
    },
    {
      "cell_type": "code",
      "execution_count": 79,
      "metadata": {
        "colab": {
          "base_uri": "https://localhost:8080/"
        },
        "id": "mbx4dBXiNWhf",
        "outputId": "9ac5b96b-f017-42b7-88ea-88134f1033ba"
      },
      "outputs": [
        {
          "data": {
            "text/plain": [
              "tensor([[11., 22., 33.],\n",
              "        [14., 25., 36.],\n",
              "        [17., 28., 39.]])"
            ]
          },
          "execution_count": 79,
          "metadata": {},
          "output_type": "execute_result"
        }
      ],
      "source": [
        "c"
      ]
    },
    {
      "cell_type": "code",
      "execution_count": 86,
      "metadata": {
        "colab": {
          "base_uri": "https://localhost:8080/"
        },
        "id": "l6j3FIYINn6X",
        "outputId": "be0106f7-a4ac-4ce8-9d12-e35804fd80a9"
      },
      "outputs": [
        {
          "data": {
            "text/plain": [
              "torch.Size([1, 3])"
            ]
          },
          "execution_count": 86,
          "metadata": {},
          "output_type": "execute_result"
        }
      ],
      "source": [
        "d = torch.tensor([[34., 56., 78.]])\n",
        "d.shape"
      ]
    },
    {
      "cell_type": "code",
      "execution_count": 87,
      "metadata": {
        "colab": {
          "base_uri": "https://localhost:8080/"
        },
        "id": "uvqt328bNZAL",
        "outputId": "bc409e5c-c9bb-4ae9-c2e2-6e965c2047b6"
      },
      "outputs": [
        {
          "data": {
            "text/plain": [
              "tensor([[10., 20., 30.],\n",
              "        [10., 20., 30.],\n",
              "        [10., 20., 30.]])"
            ]
          },
          "execution_count": 87,
          "metadata": {},
          "output_type": "execute_result"
        }
      ],
      "source": [
        "t.expand_as(m)"
      ]
    },
    {
      "cell_type": "code",
      "execution_count": 88,
      "metadata": {
        "colab": {
          "base_uri": "https://localhost:8080/"
        },
        "id": "f28dh9K3NdUR",
        "outputId": "e094c273-717a-4d19-e3f3-a9b408ef0856"
      },
      "outputs": [
        {
          "data": {
            "text/plain": [
              "tensor([10., 20., 30.])"
            ]
          },
          "execution_count": 88,
          "metadata": {},
          "output_type": "execute_result"
        }
      ],
      "source": [
        "t"
      ]
    },
    {
      "cell_type": "code",
      "execution_count": 105,
      "metadata": {
        "colab": {
          "base_uri": "https://localhost:8080/"
        },
        "id": "D9CuYwcmNeMg",
        "outputId": "79b6178d-841d-4eb4-a43e-7e6e8b0350f9"
      },
      "outputs": [
        {
          "data": {
            "text/plain": [
              "(torch.Size([1, 3]), torch.Size([3]))"
            ]
          },
          "execution_count": 105,
          "metadata": {},
          "output_type": "execute_result"
        }
      ],
      "source": [
        "t.expand_as(d).shape, t.shape"
      ]
    },
    {
      "cell_type": "code",
      "execution_count": 106,
      "metadata": {
        "colab": {
          "base_uri": "https://localhost:8080/"
        },
        "id": "2hI110VwPPd9",
        "outputId": "1a0d1926-ae4d-4ef8-a1cb-85c9a7a8fe50"
      },
      "outputs": [
        {
          "data": {
            "text/plain": [
              "(tensor([10., 20., 30.]), torch.Size([3]))"
            ]
          },
          "execution_count": 106,
          "metadata": {},
          "output_type": "execute_result"
        }
      ],
      "source": [
        "t, t.shape"
      ]
    },
    {
      "cell_type": "code",
      "execution_count": 108,
      "metadata": {
        "id": "-m4aZiOSPTaW"
      },
      "outputs": [],
      "source": [
        "t10 = t[None, :]; t20 = t[:, None]"
      ]
    },
    {
      "cell_type": "code",
      "execution_count": 109,
      "metadata": {
        "colab": {
          "base_uri": "https://localhost:8080/"
        },
        "id": "yhepbXaWPdJ1",
        "outputId": "d5d9171d-4102-4334-ec9d-8f2094afb88a"
      },
      "outputs": [
        {
          "data": {
            "text/plain": [
              "(torch.Size([1, 3]), torch.Size([3, 1]))"
            ]
          },
          "execution_count": 109,
          "metadata": {},
          "output_type": "execute_result"
        }
      ],
      "source": [
        "t10.shape, t20.shape"
      ]
    },
    {
      "cell_type": "code",
      "execution_count": 110,
      "metadata": {
        "colab": {
          "base_uri": "https://localhost:8080/"
        },
        "id": "N2Yo_LfmPsCU",
        "outputId": "f97d3eb4-3a3c-4e79-8f9c-3661bf6e6542"
      },
      "outputs": [
        {
          "data": {
            "text/plain": [
              "tensor([[10., 20., 30.]])"
            ]
          },
          "execution_count": 110,
          "metadata": {},
          "output_type": "execute_result"
        }
      ],
      "source": [
        "t10"
      ]
    },
    {
      "cell_type": "code",
      "execution_count": 111,
      "metadata": {
        "colab": {
          "base_uri": "https://localhost:8080/"
        },
        "id": "eXb1knXAPtt3",
        "outputId": "8ae108b9-2c26-4724-8f31-16e10b783878"
      },
      "outputs": [
        {
          "data": {
            "text/plain": [
              "tensor([[10.],\n",
              "        [20.],\n",
              "        [30.]])"
            ]
          },
          "execution_count": 111,
          "metadata": {},
          "output_type": "execute_result"
        }
      ],
      "source": [
        "t20"
      ]
    },
    {
      "cell_type": "code",
      "execution_count": 112,
      "metadata": {
        "colab": {
          "base_uri": "https://localhost:8080/"
        },
        "id": "tDn-dCZDPuoR",
        "outputId": "cf5e59db-3d55-4853-a229-ce92eadb6232"
      },
      "outputs": [
        {
          "data": {
            "text/plain": [
              "tensor([[100., 200., 300.],\n",
              "        [200., 400., 600.],\n",
              "        [300., 600., 900.]])"
            ]
          },
          "execution_count": 112,
          "metadata": {},
          "output_type": "execute_result"
        }
      ],
      "source": [
        "t30 = t10*t20; t30"
      ]
    },
    {
      "cell_type": "code",
      "execution_count": 113,
      "metadata": {
        "colab": {
          "base_uri": "https://localhost:8080/"
        },
        "id": "esK8WoVUQN9S",
        "outputId": "91fb5873-6894-4114-9bea-5a9ff594e7c8"
      },
      "outputs": [
        {
          "data": {
            "text/plain": [
              "(torch.Size([5, 784]), torch.Size([784, 10]))"
            ]
          },
          "execution_count": 113,
          "metadata": {},
          "output_type": "execute_result"
        }
      ],
      "source": [
        "m1.shape, m2.shape"
      ]
    },
    {
      "cell_type": "code",
      "execution_count": 124,
      "metadata": {
        "id": "cuVukQJGREHC"
      },
      "outputs": [],
      "source": [
        "def matmul(a, b):\n",
        "  # a, b = map(tensor, (a, b))\n",
        "  res = a[:, :, None] * b[None]\n",
        "  return res.sum(dim=1)"
      ]
    },
    {
      "cell_type": "code",
      "execution_count": 127,
      "metadata": {
        "id": "WThj7tfWR5Dr"
      },
      "outputs": [],
      "source": [
        "test_close(t1, matmul(m1, m2), eps=1e-3)\n",
        "# broadcast_mul = matmul(m1, m2)\n",
        "# broadcast_mul.shape"
      ]
    },
    {
      "cell_type": "code",
      "execution_count": 128,
      "metadata": {
        "colab": {
          "base_uri": "https://localhost:8080/"
        },
        "id": "hwAMZRB9SSr0",
        "outputId": "9d10d44a-3df1-431d-ab1b-5e4aaad3e386"
      },
      "outputs": [
        {
          "name": "stdout",
          "output_type": "stream",
          "text": [
            "78.7 µs ± 26.9 µs per loop (mean ± std. dev. of 7 runs, 50 loops each)\n"
          ]
        }
      ],
      "source": [
        "%timeit -n 50 matmul(m1, m2)"
      ]
    },
    {
      "cell_type": "code",
      "execution_count": 129,
      "metadata": {
        "colab": {
          "base_uri": "https://localhost:8080/"
        },
        "id": "OPvz_r_uTnXu",
        "outputId": "25a24acb-b10e-484e-f8a3-fb3f7400f665"
      },
      "outputs": [
        {
          "name": "stdout",
          "output_type": "stream",
          "text": [
            "CPU times: user 1.28 s, sys: 2.38 s, total: 3.66 s\n",
            "Wall time: 4.02 s\n"
          ]
        }
      ],
      "source": [
        "%time _=matmul(x_train, weights)"
      ]
    },
    {
      "cell_type": "code",
      "execution_count": null,
      "metadata": {
        "id": "mreptPDzU0RW"
      },
      "outputs": [],
      "source": []
    }
  ],
  "metadata": {
    "colab": {
      "provenance": []
    },
    "kernelspec": {
      "display_name": "Python 3",
      "name": "python3"
    },
    "language_info": {
      "name": "python"
    }
  },
  "nbformat": 4,
  "nbformat_minor": 0
}
